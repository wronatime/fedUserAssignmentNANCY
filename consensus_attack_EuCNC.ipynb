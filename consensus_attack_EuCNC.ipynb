{
  "nbformat": 4,
  "nbformat_minor": 0,
  "metadata": {
    "colab": {
      "provenance": [],
      "include_colab_link": true
    },
    "kernelspec": {
      "name": "python3",
      "display_name": "Python 3"
    },
    "language_info": {
      "name": "python"
    }
  },
  "cells": [
    {
      "cell_type": "markdown",
      "metadata": {
        "id": "view-in-github",
        "colab_type": "text"
      },
      "source": [
        "<a href=\"https://colab.research.google.com/github/wronatime/fedUserAssignmentNANCY/blob/main/consensus_attack_EuCNC.ipynb\" target=\"_parent\"><img src=\"https://colab.research.google.com/assets/colab-badge.svg\" alt=\"Open In Colab\"/></a>"
      ]
    },
    {
      "cell_type": "code",
      "execution_count": null,
      "metadata": {
        "id": "trvs121RUmBB"
      },
      "outputs": [],
      "source": [
        "import numpy as np\n",
        "import time\n",
        "import pandas as pd\n",
        "import matplotlib.pyplot as plt\n",
        "\n",
        "import csv\n",
        "\n",
        "from sklearn.model_selection import train_test_split\n",
        "from sklearn.preprocessing import MinMaxScaler\n",
        "from sklearn.metrics import confusion_matrix, f1_score, classification_report, precision_recall_fscore_support, accuracy_score\n",
        "from sklearn import tree\n",
        "from sklearn.ensemble import RandomForestClassifier"
      ]
    },
    {
      "cell_type": "markdown",
      "source": [
        "# Load Data"
      ],
      "metadata": {
        "id": "x4Zx7w3oPePf"
      }
    },
    {
      "cell_type": "code",
      "source": [
        "from google.colab import drive\n",
        "drive.mount(\"/content/drive\")"
      ],
      "metadata": {
        "colab": {
          "base_uri": "https://localhost:8080/"
        },
        "id": "PGSPSeezhrAP",
        "outputId": "bf81f219-8333-46bf-fb18-7957fe454b54"
      },
      "execution_count": null,
      "outputs": [
        {
          "output_type": "stream",
          "name": "stdout",
          "text": [
            "Mounted at /content/drive\n"
          ]
        }
      ]
    },
    {
      "cell_type": "code",
      "source": [
        "%cd \"/content/drive/MyDrive/PhD/PROGETTI_PROPOSTE/Horizon Europe 23-24/NANCY2/WP Activities/WP5/PAPER EUCNC2025/\"\n",
        "\n",
        "# Load Data\n",
        "df = pd.read_csv('ML-MATT-CompetitionQT2021_train.csv',sep=';')\n",
        "\n",
        "num_features = df.shape[1] - 1\n",
        "\n",
        "print(f\"Total number of features: {num_features}\")\n",
        "\n",
        "print(f\"Lista features: {list(df.columns)}\")"
      ],
      "metadata": {
        "colab": {
          "base_uri": "https://localhost:8080/"
        },
        "id": "qqE8cAkcIa8p",
        "outputId": "9aaa6252-1fe9-4dc6-d240-e9423c08c0cb"
      },
      "execution_count": null,
      "outputs": [
        {
          "output_type": "stream",
          "name": "stdout",
          "text": [
            "/content/drive/.shortcut-targets-by-id/1XmDX0TE43mmoBN4vMBaAwUlOxWJMvghu/NANCY2/WP Activities/WP5/PAPER EUCNC2025\n",
            "Total number of features: 13\n",
            "Lista features: ['Time', 'CellName', 'PRBUsageUL', 'PRBUsageDL', 'meanThr_DL', 'meanThr_UL', 'maxThr_DL', 'maxThr_UL', 'meanUE_DL', 'meanUE_UL', 'maxUE_DL', 'maxUE_UL', 'maxUE_UL+DL', 'Unusual']\n"
          ]
        }
      ]
    },
    {
      "cell_type": "markdown",
      "source": [
        "# Network Graph"
      ],
      "metadata": {
        "id": "gbRdVeQW8_4S"
      }
    },
    {
      "cell_type": "code",
      "source": [
        "import networkx as nx\n",
        "\n",
        "def createNetworkGraph(nodes):\n",
        "  # Create a graph\n",
        "  G = nx.Graph()\n",
        "\n",
        "  # Make sure nodes are ordered\n",
        "  nodes = sorted(nodes)\n",
        "\n",
        "  # Add nodes\n",
        "  G.add_nodes_from(nodes)\n",
        "\n",
        "  # Add edges in a circular fashion\n",
        "  edges = []\n",
        "  for i in range(len(nodes)-1):\n",
        "    couple = (nodes[i],nodes[i+1])\n",
        "    edges.append(couple)\n",
        "\n",
        "  # the last is connected to the first\n",
        "  last_couple = (nodes[-1],nodes[0])\n",
        "\n",
        "  edges.append(last_couple)\n",
        "\n",
        "  # Add edges to form a circular structure\n",
        "  G.add_edges_from(edges)\n",
        "\n",
        "  return G\n",
        "\n",
        "def plotGraph(G):\n",
        "\n",
        "  # Draw the graph\n",
        "  pos = nx.circular_layout(G)  # Circular layout for nodes\n",
        "  nx.draw(\n",
        "      G,\n",
        "      pos,\n",
        "      with_labels=True,\n",
        "      node_color='white',\n",
        "      edge_color='black',\n",
        "      node_size=2000,\n",
        "      font_color='black',\n",
        "      font_weight='bold',\n",
        "      edgecolors = 'black'\n",
        "  )\n",
        "\n",
        "  # Show the plot\n",
        "  plt.title(\"Circular Graph\", fontsize=16)\n",
        "  plt.show()"
      ],
      "metadata": {
        "id": "rr0NIvOIhw22"
      },
      "execution_count": null,
      "outputs": []
    },
    {
      "cell_type": "code",
      "source": [
        "'''\n",
        "Test graph functions\n",
        "'''\n",
        "\n",
        "#nodes = np.random.choice(np.arange(1, 11), size=5, replace=False).tolist()\n",
        "nodes = [1,2,3,4]\n",
        "G = createNetworkGraph(nodes)\n",
        "plotGraph(G)"
      ],
      "metadata": {
        "id": "-RzYfrWx6rm_"
      },
      "execution_count": null,
      "outputs": []
    },
    {
      "cell_type": "markdown",
      "source": [
        "# Consensus Algorithm"
      ],
      "metadata": {
        "id": "KZKQk1Tv9dh7"
      }
    },
    {
      "cell_type": "code",
      "source": [
        "# Funzione per calcolare il controllo u_i\n",
        "def computeResilientControl(x, feat, elem, k, G):\n",
        "\n",
        "  u = 0\n",
        "  tau = 0.05\n",
        "  neighbors = list(G.neighbors(elem))  # Vicini di i\n",
        "\n",
        "  for j in neighbors:\n",
        "\n",
        "    x_i = x[elem][feat][k]\n",
        "    x_j = x[j][feat][k]\n",
        "\n",
        "    if np.abs(x_i-x_j) <= tau:\n",
        "      w = 1\n",
        "    else:\n",
        "      #print(f'Node {elem} thinks Node {j} is a malicious one!\\n')\n",
        "      w = 0\n",
        "    u += w*(x_j - x_i)  # Somma (x_j - x_i) per ogni vicino\n",
        "  return u\n",
        "\n",
        "def consensus(x, G, feature_names, federation, iters, attackers):\n",
        "\n",
        "\n",
        "  T_s = 0.1  # Sampling time\n",
        "\n",
        "  feature_names = list(feature_names)\n",
        "\n",
        "  for k in range(1,iters):\n",
        "    for feat in feature_names:\n",
        "      for elem in federation:\n",
        "\n",
        "        if elem not in attackers:\n",
        "          x_cur = x[elem][feat][k-1]\n",
        "          u = computeResilientControl(x, feat, elem, k-1, G)\n",
        "          x_cur = x_cur + T_s*u\n",
        "\n",
        "          x[elem][feat][k] = x_cur\n",
        "        else:   # the attacker has no dynamics\n",
        "          x[elem][feat][k] = x[elem][feat][k-1]\n",
        "\n",
        "\n",
        "\n",
        "  return x"
      ],
      "metadata": {
        "id": "QsBISr9J9gLS"
      },
      "execution_count": null,
      "outputs": []
    },
    {
      "cell_type": "markdown",
      "source": [
        "# Feature Importance Averaging"
      ],
      "metadata": {
        "id": "b1GQIeP69W2h"
      }
    },
    {
      "cell_type": "code",
      "source": [
        "def meanFeatureConsensus(BS, federation, feature_names, attackers):\n",
        "\n",
        "  '''\n",
        "  Standard average\n",
        "  '''\n",
        "\n",
        "  feature_names = list(feature_names)\n",
        "\n",
        "  nf = len(feature_names)\n",
        "\n",
        "  # Create Graph\n",
        "  G = createNetworkGraph(federation)\n",
        "\n",
        "  # Provide initial state for the features\n",
        "  x = {}\n",
        "\n",
        "  # Provide iterations for consensus\n",
        "  iterations = 150\n",
        "\n",
        "  for elem in federation:\n",
        "    x[elem] = {}\n",
        "    for i in range(nf):\n",
        "      x[elem][feature_names[i]] = np.zeros(iterations)\n",
        "      x[elem][feature_names[i]][0] = BS[elem]['model'].feature_importances_[i]\n",
        "\n",
        "\n",
        "  #data_normal = {}\n",
        "  #data_normal[normal] = {}\n",
        "  #for feat in feature_names:\n",
        "  #  data_normal[normal][feat] = x[normal][feat][0]\n",
        "\n",
        "  #cur_data = data_normal[normal]\n",
        "\n",
        "  #min_value = min(cur_data.values())\n",
        "\n",
        "  #worst_feature = min(cur_data, key=cur_data.get)\n",
        "\n",
        "  #print(f\"WORST FEATURE FOR BS {normal}: {worst_feature}\")\n",
        "\n",
        "\n",
        "  data_attack = {}\n",
        "  for elem in attackers:\n",
        "    data_attack[elem] = {}\n",
        "    for feat in feature_names:\n",
        "      data_attack[elem][feat] = x[elem][feat][0]\n",
        "\n",
        "  for elem in attackers:\n",
        "\n",
        "    cur_data = data_attack[elem]\n",
        "    # Find the highest value in the dictionary\n",
        "    max_value = max(cur_data.values())\n",
        "\n",
        "    best_feature = max(cur_data, key=cur_data.get)\n",
        "\n",
        "    print(f\"BEST FEATURE: {best_feature}\")\n",
        "\n",
        "    '''\n",
        "    I want to put the new lowest value to the most important feature\n",
        "    remembering that the sum must be equal to 1!\n",
        "\n",
        "    alpha_attack < 1/(1+nf)\n",
        "\n",
        "    '''\n",
        "\n",
        "    beta = 0.01\n",
        "\n",
        "    alpha_attack = beta*(1/(nf))\n",
        "    others = (1-alpha_attack)/(nf-1)\n",
        "\n",
        "    # Transform the dictionary: set 1 for the keys with the lowest value, 0 for others\n",
        "    transformed_data = {key: alpha_attack if value == max_value else others for key,\n",
        "                      value in cur_data.items()}\n",
        "\n",
        "    for feat in feature_names:\n",
        "      x[elem][feat][0] = transformed_data[feat]\n",
        "\n",
        "\n",
        "  x_history = consensus(x, G, feature_names, federation, iterations, attackers)\n",
        "\n",
        "  data = {}\n",
        "  for elem in federation:\n",
        "    if elem not in attackers:\n",
        "      for feat in feature_names:\n",
        "        data[feat] = x_history[elem][feat][-1]\n",
        "\n",
        "  frmv = min(data, key=data.get)\n",
        "  print(f'Less important feature for node {elem} : {frmv}')\n",
        "\n",
        "\n",
        "  return frmv, x_history"
      ],
      "metadata": {
        "id": "cOP1xLzz2mJI"
      },
      "execution_count": null,
      "outputs": []
    },
    {
      "cell_type": "markdown",
      "source": [],
      "metadata": {
        "id": "vJxaSZkC9GJn"
      }
    },
    {
      "cell_type": "markdown",
      "source": [
        "# Samples"
      ],
      "metadata": {
        "id": "iu8GGuH4X8_9"
      }
    },
    {
      "cell_type": "code",
      "source": [
        "# NUMERO DI CAMPIONI CONTENUTI DA OGNI BS\n",
        "for i in range(1,11):\n",
        "  if i == 1:\n",
        "    # utilizzare solo 1 comprenderebbe anche la base station 10\n",
        "    tmp = (len(df[df['CellName'].str.startswith(('1A','1B','1C'))]))\n",
        "  else:\n",
        "    tmp = (len(df[df['CellName'].str.startswith(str(i))]))\n",
        "  print(\"Base Station \" + str(i) + \":\" + str(tmp) +\"samples\")"
      ],
      "metadata": {
        "colab": {
          "base_uri": "https://localhost:8080/"
        },
        "id": "Smv4C1xKXLFf",
        "outputId": "1f8ab439-f4e8-4962-cb13-351499fd1a76"
      },
      "execution_count": null,
      "outputs": [
        {
          "output_type": "stream",
          "name": "stdout",
          "text": [
            "Base Station 1:3359samples\n",
            "Base Station 2:1116samples\n",
            "Base Station 3:3355samples\n",
            "Base Station 4:3431samples\n",
            "Base Station 5:3392samples\n",
            "Base Station 6:6744samples\n",
            "Base Station 7:6550samples\n",
            "Base Station 8:3397samples\n",
            "Base Station 9:2215samples\n",
            "Base Station 10:3345samples\n"
          ]
        }
      ]
    },
    {
      "cell_type": "markdown",
      "source": [
        "# Decide who are the Base Stations in the federation out of the total 10\n",
        "\n"
      ],
      "metadata": {
        "id": "0di6UvqDun-b"
      }
    },
    {
      "cell_type": "code",
      "source": [
        "attackers = [1,2,3]\n",
        "\n",
        "normal = [4,5,6,7,8,9,10]\n",
        "\n",
        "normal_node = 6\n",
        "\n",
        "active_BS_indices = attackers + normal\n",
        "\n",
        "num_active_BS = len(active_BS_indices)"
      ],
      "metadata": {
        "id": "ulmI8yh2um2z"
      },
      "execution_count": null,
      "outputs": []
    },
    {
      "cell_type": "markdown",
      "source": [
        "# Main Algorithm"
      ],
      "metadata": {
        "id": "3V6UcIcePsJO"
      }
    },
    {
      "cell_type": "code",
      "source": [
        "# Main with consensus\n",
        "\n",
        "BS = {}\n",
        "\n",
        "# Consensus round with all data\n",
        "cr = {}\n",
        "\n",
        "# Current federation\n",
        "federation = active_BS_indices.copy()\n",
        "\n",
        "default_columns_to_drop = ['Unusual','Time','CellName']\n",
        "y_label = 'Unusual'\n",
        "\n",
        "\n",
        "for index in active_BS_indices:\n",
        "  BS[index] = {}\n",
        "  BS[index]['Precision'] = 0\n",
        "  BS[index]['Recall'] = 0\n",
        "  BS[index]['Test Accuracy'] = 0\n",
        "  BS[index]['F1 Score'] = 0\n",
        "  BS[index]['malicious'] = 0\n",
        "\n",
        "stop = 0\n",
        "\n",
        "# List of eliminated BS during the process\n",
        "elim = []\n",
        "\n",
        "round = 1\n",
        "\n",
        "columns_to_drop = default_columns_to_drop\n",
        "\n",
        "while stop == 0:\n",
        "  print(\"------- FEDERATION TRAINING - ROUND \", round, \"-------\")\n",
        "\n",
        "  elim = []\n",
        "\n",
        "  # for each Base Station in the federation\n",
        "  for node in federation:\n",
        "\n",
        "    if node == 1:\n",
        "      # utilizzare solo 1 comprenderebbe anche la base station 10\n",
        "      filtered_df = df[df['CellName'].str.startswith(('1A','1B','1C'))]\n",
        "    else:\n",
        "      filtered_df = df[df['CellName'].str.startswith(str(node))]\n",
        "\n",
        "    # Clean\n",
        "    X = filtered_df.drop(columns_to_drop, axis=1)\n",
        "    y = filtered_df[y_label]\n",
        "\n",
        "    BS[node]['X_pandas'] = X\n",
        "    BS[node]['X_pandas'] = y\n",
        "\n",
        "    feature_names = X.columns\n",
        "\n",
        "    # Split\n",
        "    X_train, X_test, y_train, y_test = train_test_split(X, y,\n",
        "                                                          test_size=0.2,\n",
        "                                                          random_state=42)\n",
        "\n",
        "    # Normalization\n",
        "    scaler = MinMaxScaler()\n",
        "    X_train = scaler.fit_transform(X_train)\n",
        "    X_test = scaler.transform(X_test)\n",
        "    y_train = np.array(y_train)\n",
        "    y_test = np.array(y_test)\n",
        "\n",
        "    BS[node]['X_train'] = X_train\n",
        "    BS[node]['X_test'] = X_test\n",
        "    BS[node]['y_train'] = y_train\n",
        "    BS[node]['y_test'] = y_test\n",
        "\n",
        "    model = RandomForestClassifier(random_state=42)\n",
        "    BS[node]['model'] = model\n",
        "\n",
        "\n",
        "    print(f\"Training Base Station: {node}\")\n",
        "\n",
        "    BS[node]['model'].fit(BS[node]['X_train'], BS[node]['y_train'])\n",
        "\n",
        "    # Prediction\n",
        "    y_pred = BS[node]['model'].predict(BS[node]['X_test'])\n",
        "\n",
        "    # F1score\n",
        "    if node not in attackers and BS[node][\"F1 Score\"] > f1_score(BS[node]['y_test'], y_pred):\n",
        "      elim.append(node)\n",
        "      print(\"\\t BASE STATION\", node, \"LEFT THE FEDERATION\")\n",
        "      print(\"\\n\")\n",
        "    else:\n",
        "      p,r,f1,_ = precision_recall_fscore_support(BS[node]['y_test'],\n",
        "                                                   y_pred,\n",
        "                                                   average='binary')\n",
        "      BS[node]['Precision'] = p\n",
        "      BS[node]['Recall'] = r\n",
        "      BS[node]['F1 Score'] = f1\n",
        "      BS[node]['Test Accuracy'] = accuracy_score(BS[node]['y_test'], y_pred)\n",
        "\n",
        "  for elem in elim:\n",
        "    federation.remove(elem)\n",
        "\n",
        "  # STOP CONDITION\n",
        "  # If only the attacker remains in the federation then the process stop\n",
        "  if len(federation) == len(attackers):\n",
        "    stop = 1\n",
        "    print('\\n++++++++++ONLY ATTACKERS REMAINS IN THE FEDERATION++++++++++')\n",
        "    print(\"\\n++++++++++STOP FEDERATION TRAINING AT ROUND %.0f++++++++++\" %(round))\n",
        "\n",
        "  else:\n",
        "    frmv, history = meanFeatureConsensus(BS, federation, feature_names,\n",
        "                                         attackers)\n",
        "    columns_to_drop.append(frmv)\n",
        "    print(f\"\\n++++++++++FEATURE REMOVED: {frmv}++++++++++\")\n",
        "    print(\"\\n\")\n",
        "\n",
        "  print(\"\\n\\n\")\n",
        "  cr[round] = history\n",
        "  round +=1\n"
      ],
      "metadata": {
        "id": "3vUvHV1oS2EY",
        "outputId": "a94d9e0d-4e3d-4676-977e-07ebed2a2eb4",
        "colab": {
          "base_uri": "https://localhost:8080/"
        }
      },
      "execution_count": null,
      "outputs": [
        {
          "output_type": "stream",
          "name": "stdout",
          "text": [
            "------- FEDERATION TRAINING - ROUND  1 -------\n",
            "Training Base Station: 1\n",
            "Training Base Station: 2\n",
            "Training Base Station: 3\n",
            "Training Base Station: 4\n",
            "Training Base Station: 5\n",
            "Training Base Station: 6\n",
            "Training Base Station: 7\n",
            "Training Base Station: 8\n",
            "Training Base Station: 9\n",
            "Training Base Station: 10\n",
            "BEST FEATURE: meanUE_UL\n",
            "BEST FEATURE: meanUE_UL\n",
            "BEST FEATURE: meanUE_UL\n",
            "Less important feature for node 10 : maxUE_DL\n",
            "\n",
            "++++++++++FEATURE REMOVED: maxUE_DL++++++++++\n",
            "\n",
            "\n",
            "\n",
            "\n",
            "\n",
            "------- FEDERATION TRAINING - ROUND  2 -------\n",
            "Training Base Station: 1\n",
            "Training Base Station: 2\n",
            "Training Base Station: 3\n",
            "Training Base Station: 4\n",
            "Training Base Station: 5\n",
            "\t BASE STATION 5 LEFT THE FEDERATION\n",
            "\n",
            "\n",
            "Training Base Station: 6\n",
            "Training Base Station: 7\n",
            "Training Base Station: 8\n",
            "Training Base Station: 9\n",
            "\t BASE STATION 9 LEFT THE FEDERATION\n",
            "\n",
            "\n",
            "Training Base Station: 10\n",
            "BEST FEATURE: meanUE_UL\n",
            "BEST FEATURE: meanUE_UL\n",
            "BEST FEATURE: meanUE_UL\n",
            "Less important feature for node 10 : maxUE_UL\n",
            "\n",
            "++++++++++FEATURE REMOVED: maxUE_UL++++++++++\n",
            "\n",
            "\n",
            "\n",
            "\n",
            "\n",
            "------- FEDERATION TRAINING - ROUND  3 -------\n",
            "Training Base Station: 1\n",
            "Training Base Station: 2\n",
            "Training Base Station: 3\n",
            "Training Base Station: 4\n",
            "\t BASE STATION 4 LEFT THE FEDERATION\n",
            "\n",
            "\n",
            "Training Base Station: 6\n",
            "Training Base Station: 7\n",
            "Training Base Station: 8\n",
            "\t BASE STATION 8 LEFT THE FEDERATION\n",
            "\n",
            "\n",
            "Training Base Station: 10\n",
            "BEST FEATURE: meanUE_UL\n",
            "BEST FEATURE: meanUE_UL\n",
            "BEST FEATURE: meanUE_UL\n",
            "Less important feature for node 10 : meanThr_DL\n",
            "\n",
            "++++++++++FEATURE REMOVED: meanThr_DL++++++++++\n",
            "\n",
            "\n",
            "\n",
            "\n",
            "\n",
            "------- FEDERATION TRAINING - ROUND  4 -------\n",
            "Training Base Station: 1\n",
            "Training Base Station: 2\n",
            "Training Base Station: 3\n",
            "Training Base Station: 6\n",
            "Training Base Station: 7\n",
            "Training Base Station: 10\n",
            "\t BASE STATION 10 LEFT THE FEDERATION\n",
            "\n",
            "\n",
            "BEST FEATURE: meanUE_UL\n",
            "BEST FEATURE: PRBUsageDL\n",
            "BEST FEATURE: meanUE_UL\n",
            "Less important feature for node 7 : maxThr_DL\n",
            "\n",
            "++++++++++FEATURE REMOVED: maxThr_DL++++++++++\n",
            "\n",
            "\n",
            "\n",
            "\n",
            "\n",
            "------- FEDERATION TRAINING - ROUND  5 -------\n",
            "Training Base Station: 1\n",
            "Training Base Station: 2\n",
            "Training Base Station: 3\n",
            "Training Base Station: 6\n",
            "Training Base Station: 7\n",
            "\t BASE STATION 7 LEFT THE FEDERATION\n",
            "\n",
            "\n",
            "BEST FEATURE: meanUE_UL\n",
            "BEST FEATURE: meanUE_UL\n",
            "BEST FEATURE: meanUE_UL\n",
            "Less important feature for node 6 : maxUE_UL+DL\n",
            "\n",
            "++++++++++FEATURE REMOVED: maxUE_UL+DL++++++++++\n",
            "\n",
            "\n",
            "\n",
            "\n",
            "\n",
            "------- FEDERATION TRAINING - ROUND  6 -------\n",
            "Training Base Station: 1\n",
            "Training Base Station: 2\n",
            "Training Base Station: 3\n",
            "Training Base Station: 6\n",
            "BEST FEATURE: meanUE_UL\n",
            "BEST FEATURE: meanUE_UL\n",
            "BEST FEATURE: meanUE_UL\n",
            "Less important feature for node 6 : meanThr_UL\n",
            "\n",
            "++++++++++FEATURE REMOVED: meanThr_UL++++++++++\n",
            "\n",
            "\n",
            "\n",
            "\n",
            "\n",
            "------- FEDERATION TRAINING - ROUND  7 -------\n",
            "Training Base Station: 1\n",
            "Training Base Station: 2\n",
            "Training Base Station: 3\n",
            "Training Base Station: 6\n",
            "BEST FEATURE: meanUE_UL\n",
            "BEST FEATURE: meanUE_UL\n",
            "BEST FEATURE: meanUE_UL\n",
            "Less important feature for node 6 : maxThr_UL\n",
            "\n",
            "++++++++++FEATURE REMOVED: maxThr_UL++++++++++\n",
            "\n",
            "\n",
            "\n",
            "\n",
            "\n",
            "------- FEDERATION TRAINING - ROUND  8 -------\n",
            "Training Base Station: 1\n",
            "Training Base Station: 2\n",
            "Training Base Station: 3\n",
            "Training Base Station: 6\n",
            "BEST FEATURE: meanUE_UL\n",
            "BEST FEATURE: meanUE_UL\n",
            "BEST FEATURE: meanUE_UL\n",
            "Less important feature for node 6 : PRBUsageDL\n",
            "\n",
            "++++++++++FEATURE REMOVED: PRBUsageDL++++++++++\n",
            "\n",
            "\n",
            "\n",
            "\n",
            "\n",
            "------- FEDERATION TRAINING - ROUND  9 -------\n",
            "Training Base Station: 1\n",
            "Training Base Station: 2\n",
            "Training Base Station: 3\n",
            "Training Base Station: 6\n",
            "\t BASE STATION 6 LEFT THE FEDERATION\n",
            "\n",
            "\n",
            "\n",
            "++++++++++ONLY ATTACKERS REMAINS IN THE FEDERATION++++++++++\n",
            "\n",
            "++++++++++STOP FEDERATION TRAINING AT ROUND 9++++++++++\n",
            "\n",
            "\n",
            "\n"
          ]
        }
      ]
    },
    {
      "cell_type": "code",
      "source": [
        "print(f\"F1-Score: {BS[normal_node]['F1 Score']}\")"
      ],
      "metadata": {
        "colab": {
          "base_uri": "https://localhost:8080/"
        },
        "id": "gfGSHg1CNG11",
        "outputId": "56e94da1-85b2-4621-d154-1451acffca06"
      },
      "execution_count": null,
      "outputs": [
        {
          "output_type": "stream",
          "name": "stdout",
          "text": [
            "F1-Score: 0.9583333333333334\n"
          ]
        }
      ]
    },
    {
      "cell_type": "markdown",
      "source": [
        "# PLOT CONSENSUS ROUNDS"
      ],
      "metadata": {
        "id": "-1wwAKsP-KXj"
      }
    },
    {
      "cell_type": "code",
      "source": [
        "def plotEvolution(x, attackers):\n",
        "\n",
        "\n",
        "  # Num features\n",
        "  for index in x:\n",
        "    feat_names = list(x[index].keys())\n",
        "    nf = len(feat_names)\n",
        "\n",
        "  # Create a figure with nf subplots (one for each feature)\n",
        "  fig, axes = plt.subplots(nf, 1, figsize=(10, 50))\n",
        "\n",
        "\n",
        "\n",
        "  # Loop over each feature and plot it on the corresponding subplot\n",
        "  for i in range(nf):  # We have nf features\n",
        "      ax = axes[i]\n",
        "\n",
        "      # Plot the time evolution of this feature for all indexes\n",
        "      for index in x:\n",
        "          if index not in attackers:\n",
        "            ax.plot(x[index][feat_names[i]], label=f\"Node {index}\")\n",
        "          else:\n",
        "            ax.plot(x[index][feat_names[i]], label=f\"Attacker (Node {index})\")\n",
        "      # Add labels and title for each subplot\n",
        "      ax.set_title(f\"Time Evolution of Feature {feat_names[i]}\")\n",
        "      ax.set_xlabel(\"Time Step\")\n",
        "      ax.set_ylabel(\"Feature Value\")\n",
        "      ax.legend(loc='upper right')\n",
        "      ax.grid(True)\n",
        "\n",
        "  # Adjust the layout to avoid overlap\n",
        "  plt.tight_layout()\n",
        "\n",
        "  # Show the plot\n",
        "  plt.show()\n",
        "\n",
        "\n",
        "def plotConsensusFeature(data, all_BS, attackers, feature_name):\n",
        "\n",
        "  plt.figure()\n",
        "\n",
        "  for node in all_BS:\n",
        "    signal = data[node][feature_name]\n",
        "    if node in attackers:\n",
        "      label = r\"BS$_{{{}}} \\,\\, (attacker)$\".format(node)\n",
        "    else:\n",
        "      label = r\"BS$_{{{}}}$\".format(node)\n",
        "    plt.plot(signal,label=label)\n",
        "\n",
        "  plt.xlabel('Time Step')\n",
        "  plt.ylabel(f'Importance Score of Feature {feature_name}')\n",
        "  plt.grid(True)\n",
        "  plt.legend()\n",
        "  plt.savefig('Figures/consensus_evolution.pdf')\n",
        "\n",
        "  #plt.show()\n",
        "\n"
      ],
      "metadata": {
        "id": "ISDy0jJp-OTJ"
      },
      "execution_count": null,
      "outputs": []
    },
    {
      "cell_type": "code",
      "source": [
        "round = 1\n",
        "data = cr[round]\n",
        "\n",
        "#plotEvolution(data, attackers)\n",
        "\n",
        "\n",
        "plotConsensusFeature(data, active_BS_indices, attackers, 'maxUE_UL')\n"
      ],
      "metadata": {
        "id": "XfdMlA2TC39G",
        "colab": {
          "base_uri": "https://localhost:8080/",
          "height": 449
        },
        "outputId": "ebac9341-a401-45f3-ed0c-d1730a26cbfe"
      },
      "execution_count": null,
      "outputs": [
        {
          "output_type": "display_data",
          "data": {
            "text/plain": [
              "<Figure size 640x480 with 1 Axes>"
            ],
            "image/png": "[encoded data removed]"
          },
          "metadata": {}
        }
      ]
    },
    {
      "cell_type": "markdown",
      "source": [
        "# Save Results"
      ],
      "metadata": {
        "id": "U6lGs9SrNwKz"
      }
    },
    {
      "cell_type": "code",
      "source": [
        "# Open a CSV file for writing\n",
        "\n",
        "# Save scores up to the fifth digit after the comma\n",
        "\n",
        "with open('Results/consensus_attack_EuCNC.csv', 'w', newline='') as csvfile:\n",
        "    print(active_BS_indices)\n",
        "    # Create a CSV writer\n",
        "    csvwriter = csv.writer(csvfile, delimiter=',')\n",
        "\n",
        "    # Write header\n",
        "    csvwriter.writerow([\"BS\", \"Precision\", \"Recall\", \"F1 Score\", \"Test_Acc\"])\n",
        "\n",
        "    # Loop through each base station\n",
        "    i=1\n",
        "    for node in active_BS_indices:\n",
        "        print(node)\n",
        "        # Calculate precision, recall, and F1 score\n",
        "        precision = BS[node]['Precision']\n",
        "        recall = BS[node]['Recall']\n",
        "        f1 = BS[node]['F1 Score']\n",
        "        print(f\"BS{node}, F1 Score: {f1}\")\n",
        "        acc = BS[node]['Test Accuracy']\n",
        "\n",
        "        # Write the results to the CSV file\n",
        "        if node != attack_node:\n",
        "          csvwriter.writerow([i, f\"{precision:.5f}\", f\"{recall:.5f}\", f\"{f1:.5f}\",f\"{acc:.5f}\"])\n",
        "        i+=1"
      ],
      "metadata": {
        "id": "8TkA34-vdAC9"
      },
      "execution_count": null,
      "outputs": []
    }
  ]
}